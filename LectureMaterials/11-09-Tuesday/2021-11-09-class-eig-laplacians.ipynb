{
 "cells": [
  {
   "cell_type": "markdown",
   "metadata": {},
   "source": [
    "# Transcript from Lecture, November 9, 2021"
   ]
  },
  {
   "cell_type": "code",
   "execution_count": null,
   "metadata": {},
   "outputs": [],
   "source": [
    "import sys\n",
    "\n",
    "########################################\n",
    "# Change the string in the line below! #\n",
    "########################################\n",
    "sys.path.append(\"/Users/gilbert/Documents/CS111-2021-fall/Python\") \n",
    "\n",
    "import os\n",
    "import time\n",
    "import math\n",
    "import numpy as np\n",
    "import numpy.linalg as npla\n",
    "import scipy\n",
    "from scipy import linalg as spla\n",
    "import scipy.sparse\n",
    "import scipy.sparse.linalg\n",
    "from scipy import integrate\n",
    "import networkx as nx\n",
    "import json\n",
    "import cs111\n",
    "\n",
    "#######################################################\n",
    "# Here are three different ways to have plots appear. #\n",
    "# Uncomment the one you want to use.                  #\n",
    "#                                                     #\n",
    "# inline    : static plot in notebook                 #\n",
    "# ipympl    : plot in notebook with pan/zoom controls #\n",
    "# tk        : plot in popup window with pan/zoom      #\n",
    "#                                                     #\n",
    "# If %matplotlib ipympl doesn't work, try saying:     #\n",
    "#   conda install -c conda-forge ipympl               #\n",
    "# at a shell prompt.                                  #\n",
    "#######################################################\n",
    "import matplotlib\n",
    "%matplotlib inline \n",
    "# %matplotlib ipympl\n",
    "# %matplotlib tk \n",
    "\n",
    "import matplotlib.pyplot as plt\n",
    "from matplotlib import cm\n",
    "from mpl_toolkits.mplot3d import axes3d\n",
    "\n",
    "np.set_printoptions(precision = 4)"
   ]
  },
  {
   "cell_type": "markdown",
   "metadata": {},
   "source": [
    "# Eigenvalues and eigenvectors"
   ]
  },
  {
   "cell_type": "markdown",
   "metadata": {},
   "source": [
    "If $w$ is a nonzero vector and $\\lambda$ is a number and $Aw = \\lambda w$, we say $w$ is an *eigenvector* of $A$ with *eigenvalue* $\\lambda$. Notice that in this case any nonzero multiple of $w$ is also an eigenvector.\n",
    "\n",
    "Every matrix has at least one eigenvalue/eigenvector, and an $n$-by-$n$ matrix has at most $n$ linearly independent eigenvectors."
   ]
  },
  {
   "cell_type": "code",
   "execution_count": null,
   "metadata": {},
   "outputs": [],
   "source": [
    "A = np.diag([1,2,3])\n",
    "A"
   ]
  },
  {
   "cell_type": "code",
   "execution_count": null,
   "metadata": {},
   "outputs": [],
   "source": [
    "lam, W = spla.eig(A)\n",
    "print('lam:', lam)\n",
    "print('W:')\n",
    "print(W)"
   ]
  },
  {
   "cell_type": "code",
   "execution_count": null,
   "metadata": {},
   "outputs": [],
   "source": [
    "# An eigenvalue can be zero (but an eigenvector can't be the zero vector)\n",
    "A[1,1] = 0\n",
    "A"
   ]
  },
  {
   "cell_type": "code",
   "execution_count": null,
   "metadata": {},
   "outputs": [],
   "source": [
    "# An eigenvalue can be zero (but an eigenvector can't be the zero vector)\n",
    "lam, W = spla.eig(A)\n",
    "print('lam:', lam)\n",
    "print('W:')\n",
    "print(W)"
   ]
  },
  {
   "cell_type": "code",
   "execution_count": null,
   "metadata": {},
   "outputs": [],
   "source": [
    "A = np.array([[0,1,0,0], [0,0,1,0], [0,0,0,1], [1,0,0,0]])\n",
    "A"
   ]
  },
  {
   "cell_type": "code",
   "execution_count": null,
   "metadata": {},
   "outputs": [],
   "source": [
    "lam, W = spla.eig(A)\n",
    "print('lam:', lam)\n",
    "print('W:')\n",
    "print(W)"
   ]
  },
  {
   "cell_type": "code",
   "execution_count": null,
   "metadata": {},
   "outputs": [],
   "source": [
    "A"
   ]
  },
  {
   "cell_type": "code",
   "execution_count": null,
   "metadata": {},
   "outputs": [],
   "source": [
    "A = np.random.rand(4,4)\n",
    "print('A:'); print(A)\n",
    "print()\n",
    "\n",
    "lam, W = spla.eig(A)\n",
    "print('lam:', lam)\n",
    "print('W:'); print(W)"
   ]
  },
  {
   "cell_type": "code",
   "execution_count": null,
   "metadata": {},
   "outputs": [],
   "source": [
    "i = 2\n",
    "val = lam[i]\n",
    "val"
   ]
  },
  {
   "cell_type": "code",
   "execution_count": null,
   "metadata": {},
   "outputs": [],
   "source": [
    "vec = W[:,i]\n",
    "vec"
   ]
  },
  {
   "cell_type": "code",
   "execution_count": null,
   "metadata": {},
   "outputs": [],
   "source": [
    "npla.norm(vec)"
   ]
  },
  {
   "cell_type": "code",
   "execution_count": null,
   "metadata": {},
   "outputs": [],
   "source": [
    "print('val * vec:', val * vec)\n",
    "print('  A @ vec:', A @ vec)"
   ]
  },
  {
   "cell_type": "code",
   "execution_count": null,
   "metadata": {},
   "outputs": [],
   "source": [
    "# Any multiple of an eigenvector is an eigenvector (with the same eigenvalue)\n",
    "vec2 = 2 * vec\n",
    "\n",
    "print('val * vec2:', val * vec2)\n",
    "print('  A @ vec2:', A @ vec2)"
   ]
  },
  {
   "cell_type": "code",
   "execution_count": null,
   "metadata": {},
   "outputs": [],
   "source": [
    "# An n-by-n matrix has at most n linearly independent eigenvectors, but can have fewer\n",
    "A = np.array([[1,1], [0,1]])\n",
    "\n",
    "print('A:'); print(A)\n",
    "print()\n",
    "\n",
    "lam, W = spla.eig(A)\n",
    "print('lam:', lam)\n",
    "print('W:'); print(W)"
   ]
  },
  {
   "cell_type": "code",
   "execution_count": null,
   "metadata": {},
   "outputs": [],
   "source": [
    "# Can you see why the two eigenvectors above are \"really\" the same one?"
   ]
  },
  {
   "cell_type": "markdown",
   "metadata": {},
   "source": [
    "The eigenvalues of $A$ and $A^T$ are the same, though the eigenvectors aren't necessarily the same."
   ]
  },
  {
   "cell_type": "code",
   "execution_count": null,
   "metadata": {},
   "outputs": [],
   "source": [
    "A = np.random.rand(3,3)\n",
    "\n",
    "print('A:'); print(A)\n",
    "print()\n",
    "\n",
    "lam, W = spla.eig(A)\n",
    "print('lam:', lam)\n",
    "print('W:'); print(W)"
   ]
  },
  {
   "cell_type": "code",
   "execution_count": null,
   "metadata": {},
   "outputs": [],
   "source": [
    "print('A.T:'); print(A.T)\n",
    "print()\n",
    "\n",
    "lam, W = spla.eig(A.T)\n",
    "print('lam:', lam)\n",
    "print('W:'); print(W)"
   ]
  },
  {
   "cell_type": "markdown",
   "metadata": {},
   "source": [
    "# Eigenvalues and eigenvectors of symmetric matrices"
   ]
  },
  {
   "cell_type": "markdown",
   "metadata": {},
   "source": [
    "If $A$ is an $n$-by-$n$ symmetric matrix,\n",
    "- All the eigenvalues of $A$ are real (no imaginary part)\n",
    "- $A$ has $n$ linearly independent eigenvectors\n",
    "- The eigenvectors can be chosen to be orthogonal to each other\n",
    "\n",
    "Thus, $AW = WS$ holds where $W$ is an orthogonal matrix ($W^TW=I$) and $S$ is a square diagonal matrix. We can therefore write the eigenvalue equation as a matrix factorization:\n",
    "\n",
    "$$A = WSW^T$$\n",
    "\n",
    "We will write $S$ = diag($\\lambda_0, \\lambda_1, \\ldots, \\lambda_{n-1}$) with\n",
    "$$\\lambda_0 \\le \\lambda_1 \\le \\cdots \\lambda_{n-1}.$$ \n",
    "\n",
    "(Unfortunately the standard convention is to order eigenvalues in increasing order and singular values in decreasing order. Yuck.)\n",
    "\n",
    "We will write $w_i$ to mean column $i$ of $W$, so for all $0\\le i < n$,\n",
    "$$Aw_i = \\lambda_i w_i$$\n"
   ]
  },
  {
   "cell_type": "code",
   "execution_count": null,
   "metadata": {},
   "outputs": [],
   "source": [
    "# Random symmetric matrix\n",
    "A = np.random.randn(4,4)\n",
    "A = A + A.T\n",
    "A"
   ]
  },
  {
   "cell_type": "code",
   "execution_count": null,
   "metadata": {},
   "outputs": [],
   "source": [
    "print('A:'); print(A)\n",
    "print()\n",
    "\n",
    "lam, W = spla.eig(A)\n",
    "print('lam:', lam)\n",
    "print('W:'); print(W)"
   ]
  },
  {
   "cell_type": "code",
   "execution_count": null,
   "metadata": {},
   "outputs": [],
   "source": [
    "# Better! Use spla.eigh(A) not spla.eig(A) when A is symmetric\n",
    "print('A:'); print(A)\n",
    "print()\n",
    "\n",
    "lam, W = spla.eigh(A)\n",
    "print('lam:', lam)\n",
    "print('W:'); print(W)"
   ]
  },
  {
   "cell_type": "code",
   "execution_count": null,
   "metadata": {},
   "outputs": [],
   "source": [
    "W.T @ W"
   ]
  },
  {
   "cell_type": "code",
   "execution_count": null,
   "metadata": {},
   "outputs": [],
   "source": [
    "S = np.diag(lam)\n",
    "S"
   ]
  },
  {
   "cell_type": "code",
   "execution_count": null,
   "metadata": {},
   "outputs": [],
   "source": [
    "W @ S @ W.T"
   ]
  },
  {
   "cell_type": "code",
   "execution_count": null,
   "metadata": {},
   "outputs": [],
   "source": [
    "A"
   ]
  },
  {
   "cell_type": "markdown",
   "metadata": {},
   "source": [
    "# Symmetric positive definite (SPD) and positive semidefinite (SPSD) matrices"
   ]
  },
  {
   "cell_type": "markdown",
   "metadata": {},
   "source": [
    "A symmetric matrix $A$ is *positive definite* if all its eigenvalues are positive, \n",
    "so $0 < \\lambda_0 \\le \\lambda_1 \\le \\cdots \\lambda_{n-1}$.\n",
    "<br>A symmetric matrix $A$ is positive definite if and only if $x^TAx>0$ for all nonzero vectors $x$.\n",
    "\n",
    "A symmetric matrix $A$ is *positive semidefinite* if all its eigenvalues are nonnegative,\n",
    "so $0 \\le \\lambda_0 \\le \\lambda_1 \\le \\cdots \\lambda_{n-1}$.\n",
    "<br>A symmetric matrix $A$ is positive semidefinite if and only if $x^TAx\\ge 0$ for all nonzero vectors $x$.\n"
   ]
  },
  {
   "cell_type": "code",
   "execution_count": null,
   "metadata": {},
   "outputs": [],
   "source": [
    "# One way to create an SPD matrix...\n",
    "A = np.random.randn(4,4)\n",
    "A = A.T @ A\n",
    "print('A:'); print(A)"
   ]
  },
  {
   "cell_type": "code",
   "execution_count": null,
   "metadata": {},
   "outputs": [],
   "source": [
    "lam, W = spla.eigh(A)\n",
    "print('lam:', lam)\n",
    "print('W:')\n",
    "print(W)"
   ]
  },
  {
   "cell_type": "code",
   "execution_count": null,
   "metadata": {},
   "outputs": [],
   "source": [
    "# Now make it semidefinite by shifting the eigenvalues by lambda_0\n",
    "B = A - lam[0] * np.eye(4)\n",
    "\n",
    "print('B:'); print(B)"
   ]
  },
  {
   "cell_type": "code",
   "execution_count": null,
   "metadata": {},
   "outputs": [],
   "source": [
    "npla.matrix_rank(B)"
   ]
  },
  {
   "cell_type": "code",
   "execution_count": null,
   "metadata": {},
   "outputs": [],
   "source": [
    "B @ W[:,0]"
   ]
  },
  {
   "cell_type": "code",
   "execution_count": null,
   "metadata": {},
   "outputs": [],
   "source": [
    "lam, W = spla.eigh(A)\n",
    "\n",
    "print('lam for A:', lam)\n",
    "print('W for A:'); print(W)"
   ]
  },
  {
   "cell_type": "code",
   "execution_count": null,
   "metadata": {},
   "outputs": [],
   "source": [
    "lam, W = spla.eigh(B)\n",
    "\n",
    "print('lam for B:', lam)\n",
    "print('W for B:'); print(W)"
   ]
  },
  {
   "cell_type": "markdown",
   "metadata": {},
   "source": [
    "# Laplacian matrices of graphs"
   ]
  },
  {
   "cell_type": "markdown",
   "metadata": {},
   "source": [
    "Let $G$ be an undirected graph whose $n$ vertices are the integers from 0 to $n-1$. The *Laplacian matrix* of $G$ is the $n$-by-$n$ matrix $L = L(G)$ whose entries are as follows:\n",
    "\n",
    "- L[i,i] is the degree of vertex i\n",
    "- L[i,j] = -1 if (i,j) is an edge in G (and then also L[j,i] = -1)\n",
    "- The other elements of L are zero"
   ]
  },
  {
   "cell_type": "code",
   "execution_count": null,
   "metadata": {},
   "outputs": [],
   "source": [
    "# The Laplacian matrix of a 4-vertex cycle\n",
    "L = np.array([[2, -1, 0, -1], [-1, 2, -1, 0], [0, -1, 2, -1], [-1, 0, -1, 2]])\n",
    "print('L:'); print(L)"
   ]
  },
  {
   "cell_type": "code",
   "execution_count": null,
   "metadata": {},
   "outputs": [],
   "source": [
    "print('L:'); print(L)\n",
    "print();\n",
    "lam, W = spla.eigh(L)\n",
    "print('lam:', lam)\n",
    "print('W:'); print(W)"
   ]
  },
  {
   "cell_type": "code",
   "execution_count": null,
   "metadata": {},
   "outputs": [],
   "source": [
    "np.ones(4)"
   ]
  },
  {
   "cell_type": "code",
   "execution_count": null,
   "metadata": {},
   "outputs": [],
   "source": [
    "L @ np.ones(4)"
   ]
  },
  {
   "cell_type": "code",
   "execution_count": null,
   "metadata": {},
   "outputs": [],
   "source": [
    "def path(n):\n",
    "    \"\"\"Laplacian matrix of the n-vertex path graph\"\"\"\n",
    "    E = np.diag(np.ones(n-1), -1)\n",
    "    L = 2*np.eye(n) - E - E.T\n",
    "    L[0,0] = 1\n",
    "    L[-1,-1] = 1\n",
    "    return L"
   ]
  },
  {
   "cell_type": "code",
   "execution_count": null,
   "metadata": {},
   "outputs": [],
   "source": [
    "L = path(5)\n",
    "print('L:'); print(L)"
   ]
  },
  {
   "cell_type": "code",
   "execution_count": null,
   "metadata": {},
   "outputs": [],
   "source": [
    "L @ np.ones(5)"
   ]
  },
  {
   "cell_type": "code",
   "execution_count": null,
   "metadata": {},
   "outputs": [],
   "source": [
    "lam, W = spla.eigh(L)\n",
    "print('lam:', lam)\n",
    "print('W:')\n",
    "print(W)"
   ]
  },
  {
   "cell_type": "code",
   "execution_count": null,
   "metadata": {},
   "outputs": [],
   "source": [
    "L = path(20)\n",
    "print('L:'); print(L)"
   ]
  },
  {
   "cell_type": "code",
   "execution_count": null,
   "metadata": {},
   "outputs": [],
   "source": [
    "lam, W = spla.eigh(L)\n",
    "print('lam:', lam)\n",
    "print('W:')\n",
    "print(W)"
   ]
  },
  {
   "cell_type": "code",
   "execution_count": null,
   "metadata": {},
   "outputs": [],
   "source": [
    "i = 0\n",
    "plt.figure()\n",
    "plt.plot(W[:,i], '.')\n",
    "plt.xlabel(f'eigenvector {i} of path graph')"
   ]
  },
  {
   "cell_type": "code",
   "execution_count": null,
   "metadata": {},
   "outputs": [],
   "source": [
    "i = 1\n",
    "plt.figure()\n",
    "plt.plot(W[:,i], '.')\n",
    "plt.xlabel(f'eigenvector {i} of path graph')"
   ]
  },
  {
   "cell_type": "code",
   "execution_count": null,
   "metadata": {},
   "outputs": [],
   "source": [
    "i = 2\n",
    "plt.figure()\n",
    "plt.plot(W[:,i], '.')\n",
    "plt.xlabel(f'eigenvector {i} of path graph')"
   ]
  },
  {
   "cell_type": "code",
   "execution_count": null,
   "metadata": {},
   "outputs": [],
   "source": [
    "plt.figure()\n",
    "\n",
    "for i in range(4):\n",
    "    plt.plot(W[:,i], \".-\", label = f'evec {i}')\n",
    "\n",
    "plt.legend()\n",
    "plt.xlabel('vertex')\n",
    "plt.ylabel('eigenvector element')\n",
    "plt.title('Eigenvectors of the Laplacian of a path')"
   ]
  },
  {
   "cell_type": "code",
   "execution_count": null,
   "metadata": {},
   "outputs": [],
   "source": [
    "L = path(100)\n",
    "lam, W = spla.eigh(L)\n",
    "plt.figure()\n",
    "\n",
    "for i in range(10):\n",
    "    plt.plot(W[:,i], label = f'evec {i}')\n",
    "\n",
    "plt.legend()\n",
    "plt.xlabel('vertex')\n",
    "plt.ylabel('eigenvector element')\n",
    "plt.title('Eigenvectors of the Laplacian of a path')"
   ]
  },
  {
   "cell_type": "code",
   "execution_count": null,
   "metadata": {},
   "outputs": [],
   "source": []
  }
 ],
 "metadata": {
  "kernelspec": {
   "display_name": "Python 3",
   "language": "python",
   "name": "python3"
  },
  "language_info": {
   "codemirror_mode": {
    "name": "ipython",
    "version": 3
   },
   "file_extension": ".py",
   "mimetype": "text/x-python",
   "name": "python",
   "nbconvert_exporter": "python",
   "pygments_lexer": "ipython3",
   "version": "3.6.13"
  }
 },
 "nbformat": 4,
 "nbformat_minor": 2
}
