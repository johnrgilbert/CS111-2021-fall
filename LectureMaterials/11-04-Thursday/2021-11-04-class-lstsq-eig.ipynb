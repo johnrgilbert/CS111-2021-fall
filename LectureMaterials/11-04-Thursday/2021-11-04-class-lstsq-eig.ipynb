{
 "cells": [
  {
   "cell_type": "markdown",
   "metadata": {},
   "source": [
    "# Transcript from Lecture, November 4, 2021"
   ]
  },
  {
   "cell_type": "code",
   "execution_count": null,
   "metadata": {},
   "outputs": [],
   "source": [
    "import sys\n",
    "\n",
    "########################################\n",
    "# Change the string in the line below! #\n",
    "########################################\n",
    "sys.path.append(\"/Users/gilbert/Documents/CS111-2021-fall/Python\") \n",
    "\n",
    "import os\n",
    "import time\n",
    "import math\n",
    "import numpy as np\n",
    "import numpy.linalg as npla\n",
    "import scipy\n",
    "from scipy import linalg as spla\n",
    "import scipy.sparse\n",
    "import scipy.sparse.linalg\n",
    "from scipy import integrate\n",
    "import networkx as nx\n",
    "import json\n",
    "import cs111\n",
    "\n",
    "##########################################################\n",
    "# If this import for matplotlib doesn't work, try saying #\n",
    "#   conda install -c conda-forge ipympl                  #\n",
    "# at a shell prompt on your computer                     #\n",
    "##########################################################\n",
    "import matplotlib\n",
    "%matplotlib ipympl\n",
    "\n",
    "import matplotlib.pyplot as plt\n",
    "from matplotlib import cm\n",
    "from mpl_toolkits.mplot3d import axes3d\n",
    "\n",
    "\n",
    "\n",
    "\n",
    "np.set_printoptions(precision = 4)"
   ]
  },
  {
   "cell_type": "markdown",
   "metadata": {},
   "source": [
    "# Data fitting by least squares"
   ]
  },
  {
   "cell_type": "markdown",
   "metadata": {},
   "source": [
    "## The surveyor problem"
   ]
  },
  {
   "cell_type": "code",
   "execution_count": null,
   "metadata": {},
   "outputs": [],
   "source": [
    "A = np.array([[1,0,0],[0,1,0],[0,0,1],[-1,1,0],[-1,0,1],[0,-1,1]])\n",
    "b = np.array([1237,1941,2417,711,1177,475])\n",
    "print('A:'); print(A)\n",
    "print('\\nb:', b)"
   ]
  },
  {
   "cell_type": "code",
   "execution_count": null,
   "metadata": {},
   "outputs": [],
   "source": [
    "x = npla.solve(A,b)"
   ]
  },
  {
   "cell_type": "code",
   "execution_count": null,
   "metadata": {},
   "outputs": [],
   "source": [
    "x, resid, rank, sv = npla.lstsq(A, b, rcond = None)\n",
    "x"
   ]
  },
  {
   "cell_type": "code",
   "execution_count": null,
   "metadata": {},
   "outputs": [],
   "source": [
    "npla.lstsq?\n"
   ]
  },
  {
   "cell_type": "code",
   "execution_count": null,
   "metadata": {},
   "outputs": [],
   "source": [
    "x = npla.lstsq(A, b, rcond = None)[0]\n",
    "x"
   ]
  },
  {
   "cell_type": "code",
   "execution_count": null,
   "metadata": {},
   "outputs": [],
   "source": [
    "b - A@x"
   ]
  },
  {
   "cell_type": "code",
   "execution_count": null,
   "metadata": {},
   "outputs": [],
   "source": [
    "relres = npla.norm(b - A@x)/npla.norm(b)\n",
    "print('relres =', relres)"
   ]
  },
  {
   "cell_type": "code",
   "execution_count": null,
   "metadata": {},
   "outputs": [],
   "source": [
    "first_surveyor_x = np.array([1237,1941,2417])\n",
    "relres = npla.norm(b - A @ first_surveyor_x)/npla.norm(b)\n",
    "print(\"first surveyor's relres =\", relres)"
   ]
  },
  {
   "cell_type": "markdown",
   "metadata": {},
   "source": [
    "## Fitting a linear-regression line to data"
   ]
  },
  {
   "cell_type": "markdown",
   "metadata": {},
   "source": [
    "<b>Warning: This data originated from a real source (SDSS), but it has been messed around with and should be thought of as only a toy example."
   ]
  },
  {
   "cell_type": "code",
   "execution_count": null,
   "metadata": {},
   "outputs": [],
   "source": [
    "u = np.array([\n",
    "24.41442,\n",
    "25.67274,\n",
    "26.02992,\n",
    "23.00638,\n",
    "24.86972,\n",
    "21.96248,\n",
    "21.87139,\n",
    "24.93143,\n",
    "22.90206,\n",
    "22.749,\n",
    "23.84269,\n",
    "21.74025,\n",
    "23.87719,\n",
    "19.22808,\n",
    "21.62093,\n",
    "25.31738,\n",
    "24.78468,\n",
    "26.16757,\n",
    "24.25187,\n",
    "23.59213,\n",
    "22.67077,\n",
    "25.01685,\n",
    "25.43069,\n",
    "24.23741,\n",
    "22.36275,\n",
    "24.56208,\n",
    "21.57241,\n",
    "28.41815,\n",
    "25.05081,\n",
    "20.96467,\n",
    "23.56018,\n",
    "23.45984,\n",
    "22.8903,\n",
    "22.97415,\n",
    "20.78101,\n",
    "22.46072,\n",
    "24.60077,\n",
    "24.78432,\n",
    "23.35197,\n",
    "24.09856,\n",
    "25.7874,\n",
    "22.36821,\n",
    "24.50825,\n",
    "22.06679,\n",
    "16.63657,\n",
    "24.38522,\n",
    "26.19138,\n",
    "21.29271])\n",
    "\n",
    "z = np.array([\n",
    "21.37779,\n",
    "21.2569,\n",
    "19.88106,\n",
    "20.76563,\n",
    "23.18144,\n",
    "19.76097,\n",
    "18.34194,\n",
    "21.97318,\n",
    "18.26459,\n",
    "20.63926,\n",
    "21.69268,\n",
    "18.20393,\n",
    "20.19502,\n",
    "15.4874,\n",
    "21.864,\n",
    "22.357,\n",
    "22.36432,\n",
    "20.08167,\n",
    "20.08758,\n",
    "20.00934,\n",
    "19.9816,\n",
    "21.85483,\n",
    "19.38139,\n",
    "17.90937,\n",
    "16.79848,\n",
    "22.54093,\n",
    "18.07866,\n",
    "27.90404,\n",
    "21.32371,\n",
    "17.1744,\n",
    "18.08388,\n",
    "22.01883,\n",
    "19.4599,\n",
    "22.5115,\n",
    "16.82848,\n",
    "21.34581,\n",
    "20.29847,\n",
    "22.91343,\n",
    "19.40759,\n",
    "21.99136,\n",
    "22.56684,\n",
    "19.13174,\n",
    "22.60053,\n",
    "20.24307,\n",
    "13.87426,\n",
    "19.74682,\n",
    "21.74273,\n",
    "17.74383])/100"
   ]
  },
  {
   "cell_type": "code",
   "execution_count": null,
   "metadata": {},
   "outputs": [],
   "source": [
    "u.shape"
   ]
  },
  {
   "cell_type": "code",
   "execution_count": null,
   "metadata": {},
   "outputs": [],
   "source": [
    "z.shape"
   ]
  },
  {
   "cell_type": "code",
   "execution_count": null,
   "metadata": {},
   "outputs": [],
   "source": [
    "%matplotlib inline\n",
    "plt.figure()\n",
    "plt.plot(u,z,'.')\n",
    "plt.xlabel('magnitude u_i')\n",
    "plt.ylabel('redshift z_i')\n",
    "plt.title('Hubble diagram: magnitude and red shift of astronomical objects')"
   ]
  },
  {
   "cell_type": "code",
   "execution_count": null,
   "metadata": {},
   "outputs": [],
   "source": [
    "m = len(u)\n",
    "A = np.ones((m,2))\n",
    "A[:,1] = u\n",
    "A.shape"
   ]
  },
  {
   "cell_type": "code",
   "execution_count": null,
   "metadata": {},
   "outputs": [],
   "source": [
    "A"
   ]
  },
  {
   "cell_type": "code",
   "execution_count": null,
   "metadata": {},
   "outputs": [],
   "source": [
    "x = npla.lstsq(A, z, rcond = None)[0]\n",
    "x"
   ]
  },
  {
   "cell_type": "code",
   "execution_count": null,
   "metadata": {},
   "outputs": [],
   "source": [
    "np.linspace(15,30,num=4)"
   ]
  },
  {
   "cell_type": "code",
   "execution_count": null,
   "metadata": {},
   "outputs": [],
   "source": [
    "%matplotlib inline\n",
    "plt.figure()\n",
    "plt.plot(u,z,'.')\n",
    "lineu = np.linspace(15,30,num=4)\n",
    "linez = x[0] + x[1]*lineu\n",
    "plt.plot(lineu,linez)\n",
    "plt.xlabel('magnitude u')\n",
    "plt.ylabel('red shift z')\n",
    "plt.legend(('observations', 'linear fit'))\n",
    "plt.title('Hubble diagram: magnitude and red shift of astronomical objects')"
   ]
  },
  {
   "cell_type": "code",
   "execution_count": null,
   "metadata": {},
   "outputs": [],
   "source": [
    "x"
   ]
  },
  {
   "cell_type": "markdown",
   "metadata": {},
   "source": [
    "## SVD and least squares"
   ]
  },
  {
   "cell_type": "code",
   "execution_count": null,
   "metadata": {},
   "outputs": [],
   "source": [
    "# The surveyors again\n",
    "\n",
    "A = np.array([[1,0,0],[0,1,0],[0,0,1],[-1,1,0],[-1,0,1],[0,-1,1]])\n",
    "b = np.array([1237,1941,2417,711,1177,475])\n",
    "print('A:'); print(A)\n",
    "print()\n",
    "print('b:', b)"
   ]
  },
  {
   "cell_type": "code",
   "execution_count": null,
   "metadata": {},
   "outputs": [],
   "source": [
    "U,sigma,Vt = npla.svd(A)\n",
    "\n",
    "print('singular values:', sigma)\n",
    "print()\n",
    "\n",
    "S = np.zeros(A.shape)\n",
    "for i, s in enumerate(sigma):\n",
    "    S[i,i] = s\n",
    "    \n",
    "V = Vt.T\n",
    "\n",
    "print('U:'); print(U)\n",
    "print()\n",
    "print('S:'); print(S)\n",
    "print()\n",
    "print('V:'); print(V)"
   ]
  },
  {
   "cell_type": "code",
   "execution_count": null,
   "metadata": {},
   "outputs": [],
   "source": [
    "print('A:'); print(A)\n",
    "print()\n",
    "print('U @ S @ V.T:'); print(U @ S @ V.T)\n"
   ]
  },
  {
   "cell_type": "code",
   "execution_count": null,
   "metadata": {},
   "outputs": [],
   "source": [
    "npla.norm(A - U@S@V.T)"
   ]
  },
  {
   "cell_type": "markdown",
   "metadata": {},
   "source": [
    "The least squares problem is to find the $x$ that minimizes the 2-norm $||Ax-b||_2$. We can use SVD to solve this, because multiplication by an orthogonal matrix doesn't change the 2-norm of a vector.\n",
    "\n",
    "We want to minimize \n",
    "\n",
    "$$||Ax-b|| = ||USV^Tx-b||.$$\n",
    "\n",
    "Multiplying by the orthogonal matrix $U^T$, this is the same as minimizing \n",
    "\n",
    "$$||U^TUSV^Tx - U^Tb|| = ||SV^Tx-U^Tb||.$$\n",
    "\n",
    "Define $y=V^Tx$. Then if we can somehow find the $y$ that minimizes\n",
    "\n",
    "$$||Sy - U^Tb||,$$\n",
    "\n",
    "we can compute $x = Vy$ and we'll be done."
   ]
  },
  {
   "cell_type": "code",
   "execution_count": null,
   "metadata": {},
   "outputs": [],
   "source": [
    "print('b:', b)\n",
    "print('U.T @ b:', U.T@b)"
   ]
  },
  {
   "cell_type": "code",
   "execution_count": null,
   "metadata": {},
   "outputs": [],
   "source": [
    "print('S:'); print(S)\n",
    "print()\n",
    "print('sigma:', sigma)"
   ]
  },
  {
   "cell_type": "markdown",
   "metadata": {},
   "source": [
    "The bottom part of $S$ is zero. Therefore the bottom part of $Sy$ will be zero no matter what $y$ is, and the best we can do to minimize $||Sy - U^Tb||$ is to make the top part of $Sy$ match the top part of $U^Tb$.\n",
    "\n",
    "That's easy because the top part of $S$ is diagonal."
   ]
  },
  {
   "cell_type": "code",
   "execution_count": null,
   "metadata": {},
   "outputs": [],
   "source": [
    "print('first 3 elements of U.T @ b:', (U.T @ b)[:3])"
   ]
  },
  {
   "cell_type": "code",
   "execution_count": null,
   "metadata": {},
   "outputs": [],
   "source": [
    "y = (U.T @ b)[:3] / sigma\n",
    "\n",
    "print('y:', y)"
   ]
  },
  {
   "cell_type": "code",
   "execution_count": null,
   "metadata": {},
   "outputs": [],
   "source": [
    "x = V@y\n",
    "\n",
    "print('x:', x)"
   ]
  },
  {
   "cell_type": "code",
   "execution_count": null,
   "metadata": {},
   "outputs": [],
   "source": [
    "print('npla.lstsq x:', npla.lstsq(A, b, rcond=None)[0])"
   ]
  },
  {
   "cell_type": "code",
   "execution_count": null,
   "metadata": {},
   "outputs": [],
   "source": [
    "npla.norm(A@x - b)"
   ]
  },
  {
   "cell_type": "code",
   "execution_count": null,
   "metadata": {},
   "outputs": [],
   "source": [
    "npla.norm(S@y - U.T@b)"
   ]
  },
  {
   "cell_type": "code",
   "execution_count": null,
   "metadata": {},
   "outputs": [],
   "source": [
    "print('S@y:', S@y)\n",
    "print()\n",
    "print('U.T@b:', U.T@b)\n",
    "print()\n",
    "print('S@y - U.T@b:', S@y - U.T@b)"
   ]
  },
  {
   "cell_type": "code",
   "execution_count": null,
   "metadata": {},
   "outputs": [],
   "source": [
    "npla.norm((U.T@b)[3:])"
   ]
  },
  {
   "cell_type": "markdown",
   "metadata": {},
   "source": [
    "# Eigenvalues and eigenvectors"
   ]
  },
  {
   "cell_type": "markdown",
   "metadata": {},
   "source": [
    "If $w$ is a nonzero vector and $\\lambda$ is a number and $Aw = \\lambda w$, we say $w$ is an *eigenvector* of $A$ with *eigenvalue* $\\lambda$. Notice that in this case any nonzero multiple of $w$ is also an eigenvector.\n",
    "\n",
    "Every matrix has at least one eigenvalue/eigenvector, and an $n$-by-$n$ matrix has at most $n$ linearly independent eigenvectors."
   ]
  },
  {
   "cell_type": "code",
   "execution_count": null,
   "metadata": {},
   "outputs": [],
   "source": [
    "spla.eig?"
   ]
  },
  {
   "cell_type": "code",
   "execution_count": null,
   "metadata": {},
   "outputs": [],
   "source": [
    "A = np.eye(3)\n",
    "A"
   ]
  },
  {
   "cell_type": "code",
   "execution_count": null,
   "metadata": {},
   "outputs": [],
   "source": [
    "lam, W = spla.eig(A)\n",
    "print('lam:', lam)\n",
    "print('W:')\n",
    "print(W)"
   ]
  },
  {
   "cell_type": "code",
   "execution_count": null,
   "metadata": {},
   "outputs": [],
   "source": [
    "A = np.diag([1,2,3])\n",
    "A"
   ]
  },
  {
   "cell_type": "code",
   "execution_count": null,
   "metadata": {},
   "outputs": [],
   "source": [
    "lam, W = spla.eig(A)\n",
    "print('lam:', lam)\n",
    "print('W:')\n",
    "print(W)"
   ]
  },
  {
   "cell_type": "code",
   "execution_count": null,
   "metadata": {},
   "outputs": [],
   "source": [
    "# An eigenvalue can be zero (but an eigenvector can't be the zero vector)\n",
    "A[1,1] = 0\n",
    "A"
   ]
  },
  {
   "cell_type": "code",
   "execution_count": null,
   "metadata": {},
   "outputs": [],
   "source": [
    "# An eigenvalue can be zero (but an eigenvector can't be the zero vector)\n",
    "lam, W = spla.eig(A)\n",
    "print('lam:', lam)\n",
    "print('W:')\n",
    "print(W)"
   ]
  },
  {
   "cell_type": "code",
   "execution_count": null,
   "metadata": {},
   "outputs": [],
   "source": [
    "A = np.array([[0,1,0,0], [0,0,1,0], [0,0,0,1], [1,0,0,0]])\n",
    "A"
   ]
  },
  {
   "cell_type": "code",
   "execution_count": null,
   "metadata": {},
   "outputs": [],
   "source": [
    "lam, W = spla.eig(A)\n",
    "print('lam:', lam)\n",
    "print('W:')\n",
    "print(W)"
   ]
  },
  {
   "cell_type": "code",
   "execution_count": null,
   "metadata": {},
   "outputs": [],
   "source": [
    "A = np.random.rand(4,4)\n",
    "A"
   ]
  },
  {
   "cell_type": "code",
   "execution_count": null,
   "metadata": {},
   "outputs": [],
   "source": [
    "lam, W = spla.eig(A)\n",
    "print('lam:', lam)\n",
    "print('W:')\n",
    "print(W)"
   ]
  },
  {
   "cell_type": "code",
   "execution_count": null,
   "metadata": {},
   "outputs": [],
   "source": [
    "i = 2\n",
    "val = lam[i]\n",
    "val"
   ]
  },
  {
   "cell_type": "code",
   "execution_count": null,
   "metadata": {},
   "outputs": [],
   "source": [
    "vec = W[:,i]\n",
    "vec"
   ]
  },
  {
   "cell_type": "code",
   "execution_count": null,
   "metadata": {},
   "outputs": [],
   "source": [
    "npla.norm(vec)"
   ]
  },
  {
   "cell_type": "code",
   "execution_count": null,
   "metadata": {},
   "outputs": [],
   "source": [
    "val * vec"
   ]
  },
  {
   "cell_type": "code",
   "execution_count": null,
   "metadata": {},
   "outputs": [],
   "source": [
    "A @ vec"
   ]
  },
  {
   "cell_type": "markdown",
   "metadata": {},
   "source": [
    "The eigenvalues of $A$ and $A^T$ are the same, though the eigenvectors aren't necessarily the same."
   ]
  },
  {
   "cell_type": "code",
   "execution_count": null,
   "metadata": {},
   "outputs": [],
   "source": [
    "lam, W = spla.eig(A)\n",
    "print('lam:', lam)\n",
    "print('W:')\n",
    "print(W)"
   ]
  },
  {
   "cell_type": "code",
   "execution_count": null,
   "metadata": {},
   "outputs": [],
   "source": [
    "lam, W = spla.eig(A.T)\n",
    "print('lam:', lam)\n",
    "print('W:')\n",
    "print(W)"
   ]
  },
  {
   "cell_type": "markdown",
   "metadata": {},
   "source": [
    "# Eigenvalues and eigenvectors of symmetric matrices"
   ]
  },
  {
   "cell_type": "markdown",
   "metadata": {},
   "source": [
    "If $A$ is an $n$-by-$n$ symmetric matrix,\n",
    "- All the eigenvalues of $A$ are real (no imaginary part)\n",
    "- $A$ has $n$ linearly independent eigenvectors\n",
    "- The eigenvectors can be chosen to be orthogonal to each other\n",
    "\n",
    "Thus, $AW = WS$ holds where $W$ is an orthogonal matrix ($W^TW=I$) and $S$ is a square diagonal matrix. We can therefore write the eigenvalue equation as a matrix factorization:\n",
    "\n",
    "$$A = WSW^T$$\n",
    "\n",
    "We will write $S$ = diag($\\lambda_0, \\lambda_1, \\ldots, \\lambda_{n-1}$) with\n",
    "$$\\lambda_0 \\le \\lambda_1 \\le \\cdots \\lambda_{n-1}.$$ \n",
    "\n",
    "(Unfortunately the standard convention is to order eigenvalues in increasing order and singular values in decreasing order. Yuck.)\n",
    "\n",
    "We will write $w_i$ to mean column $i$ of $W$, so for all $0\\le i < n$,\n",
    "$$Aw_i = \\lambda_i w_i$$\n"
   ]
  },
  {
   "cell_type": "code",
   "execution_count": null,
   "metadata": {},
   "outputs": [],
   "source": [
    "# Random symmetric matrix\n",
    "A = np.random.randn(4,4)\n",
    "A = A + A.T\n",
    "A"
   ]
  },
  {
   "cell_type": "code",
   "execution_count": null,
   "metadata": {},
   "outputs": [],
   "source": [
    "lam, W = spla.eig(A)\n",
    "print('lam:', lam)\n",
    "print('W:')\n",
    "print(W)"
   ]
  },
  {
   "cell_type": "code",
   "execution_count": null,
   "metadata": {},
   "outputs": [],
   "source": [
    "# Better! Use spla.eigh(A) not spla.eig(A) when A is symmetric\n",
    "lam, W = spla.eigh(A)\n",
    "print('lam:', lam)\n",
    "print('W:')\n",
    "print(W)"
   ]
  },
  {
   "cell_type": "code",
   "execution_count": null,
   "metadata": {},
   "outputs": [],
   "source": [
    "W.T @ W"
   ]
  },
  {
   "cell_type": "code",
   "execution_count": null,
   "metadata": {},
   "outputs": [],
   "source": [
    "S = np.diag(lam)\n",
    "S"
   ]
  },
  {
   "cell_type": "code",
   "execution_count": null,
   "metadata": {},
   "outputs": [],
   "source": [
    "W @ S @ W.T"
   ]
  },
  {
   "cell_type": "code",
   "execution_count": null,
   "metadata": {},
   "outputs": [],
   "source": [
    "A"
   ]
  },
  {
   "cell_type": "markdown",
   "metadata": {},
   "source": [
    "# Symmetric positive definite (SPD) and positive semidefinite (SPSD) matrices"
   ]
  },
  {
   "cell_type": "markdown",
   "metadata": {},
   "source": [
    "A symmetric matrix $A$ is *positive definite* if all its eigenvalues are positive, \n",
    "so $0 < \\lambda_0 \\le \\lambda_1 \\le \\cdots \\lambda_{n-1}$.\n",
    "<br>A symmetric matrix $A$ is positive definite if and only if $x^TAx>0$ for all nonzero vectors $x$.\n",
    "\n",
    "A symmetric matrix $A$ is *positive semidefinite* if all its eigenvalues are nonnegative,\n",
    "so $0 \\le \\lambda_0 \\le \\lambda_1 \\le \\cdots \\lambda_{n-1}$.\n",
    "<br>A symmetric matrix $A$ is positive semidefinite if and only if $x^TAx\\ge 0$ for all nonzero vectors $x$.\n"
   ]
  },
  {
   "cell_type": "code",
   "execution_count": null,
   "metadata": {},
   "outputs": [],
   "source": [
    "# One way to create an SPD matrix...\n",
    "A = np.random.randn(4,4)\n",
    "A = A.T @ A\n",
    "A"
   ]
  },
  {
   "cell_type": "code",
   "execution_count": null,
   "metadata": {},
   "outputs": [],
   "source": [
    "lam, W = spla.eigh(A)\n",
    "print('lam:', lam)\n",
    "print('W:')\n",
    "print(W)"
   ]
  },
  {
   "cell_type": "code",
   "execution_count": null,
   "metadata": {},
   "outputs": [],
   "source": [
    "# Now make it semidefinite by shifting the eigenvalues by lambda_0\n",
    "B = A - lam[0] * np.eye(4)\n",
    "B"
   ]
  },
  {
   "cell_type": "code",
   "execution_count": null,
   "metadata": {},
   "outputs": [],
   "source": [
    "npla.matrix_rank(B)"
   ]
  },
  {
   "cell_type": "code",
   "execution_count": null,
   "metadata": {},
   "outputs": [],
   "source": [
    "B @ W[:,0]"
   ]
  },
  {
   "cell_type": "code",
   "execution_count": null,
   "metadata": {},
   "outputs": [],
   "source": [
    "lam, W = spla.eigh(A)\n",
    "print('lam for A:', lam)\n",
    "print('W for A:')\n",
    "print(W)"
   ]
  },
  {
   "cell_type": "code",
   "execution_count": null,
   "metadata": {},
   "outputs": [],
   "source": [
    "lam, W = spla.eigh(B)\n",
    "print('lam for B:', lam)\n",
    "print('W for B:')\n",
    "print(W)"
   ]
  },
  {
   "cell_type": "code",
   "execution_count": null,
   "metadata": {},
   "outputs": [],
   "source": []
  }
 ],
 "metadata": {
  "kernelspec": {
   "display_name": "Python 3",
   "language": "python",
   "name": "python3"
  },
  "language_info": {
   "codemirror_mode": {
    "name": "ipython",
    "version": 3
   },
   "file_extension": ".py",
   "mimetype": "text/x-python",
   "name": "python",
   "nbconvert_exporter": "python",
   "pygments_lexer": "ipython3",
   "version": "3.6.13"
  }
 },
 "nbformat": 4,
 "nbformat_minor": 2
}
